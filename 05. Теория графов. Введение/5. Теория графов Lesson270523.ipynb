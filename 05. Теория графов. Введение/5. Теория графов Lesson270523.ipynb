{
 "cells": [
  {
   "cell_type": "code",
   "execution_count": 1,
   "id": "4417a124",
   "metadata": {},
   "outputs": [
    {
     "name": "stdout",
     "output_type": "stream",
     "text": [
      "5\n",
      "0 0 0 0 0\n",
      "0 0 0 0 1\n",
      "1 1 0 0 0\n",
      "0 0 0 0 0\n",
      "0 0 0 0 0\n",
      "(2, 5) (3, 1) (3, 2)\n"
     ]
    }
   ],
   "source": [
    "n = int(input())\n",
    "edges = []\n",
    "for i in range(n):\n",
    "    row = input().split()\n",
    "    for j in range(n):\n",
    "        if row[j] == '1':\n",
    "            edges.append((i + 1, j + 1))\n",
    "print(*edges)"
   ]
  },
  {
   "cell_type": "code",
   "execution_count": 2,
   "id": "cdf1294d",
   "metadata": {},
   "outputs": [
    {
     "name": "stdout",
     "output_type": "stream",
     "text": [
      "5 3\n",
      "2 5\n",
      "3 1\n",
      "3 2\n",
      "0 1 2 0 0\n",
      "1 1 0 0 1\n"
     ]
    }
   ],
   "source": [
    "n, m = map(int, input().split())\n",
    "\n",
    "in_degree = [0] * n\n",
    "out_degree = [0] * n\n",
    "\n",
    "for i in range(m):\n",
    "    out_v, in_v = map(int, input().split())\n",
    "    out_degree[out_v - 1] += 1\n",
    "    in_degree[in_v - 1] += 1\n",
    "\n",
    "print(*out_degree)\n",
    "print(*in_degree)"
   ]
  },
  {
   "cell_type": "code",
   "execution_count": 5,
   "id": "60899b92",
   "metadata": {},
   "outputs": [
    {
     "name": "stdout",
     "output_type": "stream",
     "text": [
      "3 5\n",
      "1 2\n",
      "1 2\n",
      "1 3\n",
      "2 3\n",
      "1 2\n",
      "3\n",
      "3\n"
     ]
    }
   ],
   "source": [
    "g_set = set()\n",
    "n, m = map(int, input().split())\n",
    "\n",
    "for i in range(m):\n",
    "    a, b = map(int, input().split())\n",
    "    g_set.add((a, b)) #O(1)    \n",
    "\n",
    "print(len(g_set))\n",
    "print(n * (n - 1) // 2)\n",
    "\n",
    "#O(m -> nˆ2)"
   ]
  },
  {
   "cell_type": "code",
   "execution_count": 8,
   "id": "de46d917",
   "metadata": {},
   "outputs": [
    {
     "name": "stdout",
     "output_type": "stream",
     "text": [
      "3 3 \n",
      "1 2\n",
      "1 3\n",
      "2 3\n",
      "1\n"
     ]
    }
   ],
   "source": [
    "n, m = map(int, input().split())\n",
    "matrix = []\n",
    "for i in range(n): #O(n)\n",
    "    matrix.append([0] * n)\n",
    "# 0 0 0 0\n",
    "# 0 0 0 0\n",
    "# 0 0 0 0\n",
    "# 0 0 0 0\n",
    "\n",
    "for i in range(m): #O(m -> nˆ2)\n",
    "    a, b = map(int, input().split())\n",
    "    matrix[a - 1][b - 1] = 1\n",
    "    matrix[b - 1][a - 1] = 1\n",
    "is_ok = 1\n",
    "#0(nˆ2)\n",
    "for i in range(n - 1):\n",
    "    for j in range(i + 1, n):\n",
    "        if (matrix[i][j] != 1):\n",
    "            is_ok = 0\n",
    "            break\n",
    "\n",
    "print(is_ok)"
   ]
  },
  {
   "cell_type": "code",
   "execution_count": 15,
   "id": "efe16f22",
   "metadata": {},
   "outputs": [
    {
     "name": "stdout",
     "output_type": "stream",
     "text": [
      "4\n",
      "0 1 1 0\n",
      "0 0 1 0\n",
      "0 0 0 0\n",
      "0 0 0 0\n"
     ]
    }
   ],
   "source": [
    "n = int(input())\n",
    "matrix = []\n",
    "for i in range(n):\n",
    "    matrix.append(list(map(int, input().split())))"
   ]
  },
  {
   "cell_type": "code",
   "execution_count": 16,
   "id": "f50a0558",
   "metadata": {},
   "outputs": [
    {
     "name": "stdout",
     "output_type": "stream",
     "text": [
      "1\n"
     ]
    }
   ],
   "source": [
    "is_ok = 1\n",
    "for i in range(n):\n",
    "    for j in range(n):\n",
    "        for k in range(n):\n",
    "            if (matrix[i][j] == 1 and matrix[j][k] == 1 \n",
    "                and matrix[i][k] == 0):\n",
    "                is_ok = 0\n",
    "                break\n",
    "print(is_ok)"
   ]
  },
  {
   "cell_type": "code",
   "execution_count": 119,
   "id": "207ff2ee",
   "metadata": {},
   "outputs": [
    {
     "name": "stdout",
     "output_type": "stream",
     "text": [
      "5 1\n",
      "0 0 1 0 0\n",
      "0 0 1 0 0\n",
      "1 1 0 0 0\n",
      "0 0 0 0 1\n",
      "0 0 0 1 0\n"
     ]
    }
   ],
   "source": [
    "n, s = map(int, input().split())\n",
    "matrix = []\n",
    "for i in range(n):\n",
    "    matrix.append(list(map(int, input().split())))"
   ]
  },
  {
   "cell_type": "code",
   "execution_count": 60,
   "id": "64aa78e7",
   "metadata": {},
   "outputs": [],
   "source": [
    "used = [0] * n\n",
    "comp = []\n",
    "\n",
    "def dfs(v):\n",
    "    used[v] = 1\n",
    "    comp.append(v)\n",
    "    for i in range(n):\n",
    "        if (matrix[v][i] == 1):\n",
    "            if (used[i] == 0):\n",
    "                dfs(i)"
   ]
  },
  {
   "cell_type": "code",
   "execution_count": 61,
   "id": "1ff30243",
   "metadata": {},
   "outputs": [
    {
     "name": "stdout",
     "output_type": "stream",
     "text": [
      "1 [0, 1, 2]\n",
      "2 [3, 4]\n"
     ]
    }
   ],
   "source": [
    "count = 0\n",
    "for i in range(n):\n",
    "    if (used[i] == 0):\n",
    "        comp.clear()\n",
    "        dfs(i)\n",
    "        count += 1\n",
    "        print(count, comp)"
   ]
  },
  {
   "cell_type": "code",
   "execution_count": 62,
   "id": "e10baace",
   "metadata": {},
   "outputs": [
    {
     "data": {
      "text/plain": [
       "[1, 1, 1, 1, 1]"
      ]
     },
     "execution_count": 62,
     "metadata": {},
     "output_type": "execute_result"
    }
   ],
   "source": [
    "used"
   ]
  },
  {
   "cell_type": "code",
   "execution_count": 63,
   "id": "dc09a29c",
   "metadata": {},
   "outputs": [
    {
     "name": "stdout",
     "output_type": "stream",
     "text": [
      "2\n"
     ]
    }
   ],
   "source": [
    "print(count)"
   ]
  },
  {
   "cell_type": "code",
   "execution_count": 98,
   "id": "80ceed02",
   "metadata": {},
   "outputs": [],
   "source": [
    "used = [0] * n\n",
    "check = 1\n",
    "def dfs_biparity(v, color = 1):\n",
    "    global check\n",
    "    used[v] = color\n",
    "    for i in range(n):\n",
    "        if (matrix[v][i] == 1):\n",
    "            if (used[i] == 0):\n",
    "                print(\"***\", i, used[i], color)\n",
    "                dfs_biparity(i, 3 - color)\n",
    "            elif (used[i] == color):\n",
    "                print(\"---\", i, used[i], color)\n",
    "                check = 0\n",
    "                break"
   ]
  },
  {
   "cell_type": "code",
   "execution_count": 99,
   "id": "4f41e66c",
   "metadata": {},
   "outputs": [
    {
     "name": "stdout",
     "output_type": "stream",
     "text": [
      "*** 1 0 1\n",
      "*** 2 0 2\n",
      "--- 0 1 1\n",
      "--- 2 1 1\n",
      "*** 4 0 1\n"
     ]
    }
   ],
   "source": [
    "for i in range(n):\n",
    "    if (used[i] == 0):\n",
    "        dfs_biparity(i)"
   ]
  },
  {
   "cell_type": "code",
   "execution_count": 100,
   "id": "2083ef16",
   "metadata": {},
   "outputs": [
    {
     "data": {
      "text/plain": [
       "[1, 2, 1, 1, 2]"
      ]
     },
     "execution_count": 100,
     "metadata": {},
     "output_type": "execute_result"
    }
   ],
   "source": [
    "used"
   ]
  },
  {
   "cell_type": "code",
   "execution_count": 101,
   "id": "32ee0616",
   "metadata": {},
   "outputs": [
    {
     "data": {
      "text/plain": [
       "0"
      ]
     },
     "execution_count": 101,
     "metadata": {},
     "output_type": "execute_result"
    }
   ],
   "source": [
    "check"
   ]
  },
  {
   "cell_type": "code",
   "execution_count": 106,
   "id": "11a91d9b",
   "metadata": {},
   "outputs": [
    {
     "name": "stdout",
     "output_type": "stream",
     "text": [
      "0 2 1 "
     ]
    }
   ],
   "source": [
    "used = [0] * n\n",
    "s = 0\n",
    "\n",
    "from collections import deque\n",
    "d = deque()\n",
    "d.append(s)\n",
    "used[s] = 1\n",
    "\n",
    "while (len(d) > 0):\n",
    "    v = d.pop()\n",
    "    print(v, end = ' ')\n",
    "    for i in range(n):\n",
    "        if (matrix[v][i] == 1 and used[i] == 0):\n",
    "            used[i] = 1\n",
    "            d.append(i)"
   ]
  },
  {
   "cell_type": "code",
   "execution_count": 113,
   "id": "a7561c90",
   "metadata": {},
   "outputs": [
    {
     "name": "stdout",
     "output_type": "stream",
     "text": [
      "\n",
      "0 2 1 \n",
      "3 4 "
     ]
    }
   ],
   "source": [
    "used = [0] * n\n",
    "s = 0\n",
    "\n",
    "from collections import deque\n",
    "d = deque()\n",
    "count = 0\n",
    "for j in range(n):\n",
    "    if (used[j] == 0):  \n",
    "        d.append(j)\n",
    "        used[j] = 1\n",
    "        count += 1\n",
    "        print()\n",
    "        while (len(d) > 0):\n",
    "            v = d.pop()\n",
    "            print(v, end = ' ')\n",
    "            for i in range(n):\n",
    "                if (matrix[v][i] == 1 and used[i] == 0):\n",
    "                    used[i] = 1\n",
    "                    d.append(i)"
   ]
  },
  {
   "cell_type": "code",
   "execution_count": 114,
   "id": "9c624785",
   "metadata": {},
   "outputs": [
    {
     "name": "stdout",
     "output_type": "stream",
     "text": [
      "2\n"
     ]
    }
   ],
   "source": [
    "print(count)"
   ]
  },
  {
   "cell_type": "code",
   "execution_count": 120,
   "id": "9066389d",
   "metadata": {},
   "outputs": [
    {
     "name": "stdout",
     "output_type": "stream",
     "text": [
      "0 2 1 3 4 "
     ]
    }
   ],
   "source": [
    "used = [0] * n\n",
    "s = 0\n",
    "is_ok = 1\n",
    "\n",
    "from collections import deque\n",
    "d = deque()\n",
    "d.append(s)\n",
    "color = 1\n",
    "used[s] = color\n",
    "\n",
    "for j in range(n):\n",
    "    if (used[j] == 0):  \n",
    "        d.append(j)\n",
    "        used[j] = 1\n",
    "    while (len(d) > 0):\n",
    "        v = d.pop()\n",
    "        print(v, end = ' ')\n",
    "        for i in range(n):\n",
    "            if (matrix[v][i] == 1 and used[i] == 0):\n",
    "                color = 3 - color\n",
    "                used[i] = color\n",
    "                d.append(i)\n",
    "            elif (matrix[v][i] == 1 and used[i] == color):\n",
    "                is_ok = 0\n",
    "                break"
   ]
  },
  {
   "cell_type": "code",
   "execution_count": 121,
   "id": "e69bd96d",
   "metadata": {},
   "outputs": [
    {
     "data": {
      "text/plain": [
       "[1, 1, 2, 1, 2]"
      ]
     },
     "execution_count": 121,
     "metadata": {},
     "output_type": "execute_result"
    }
   ],
   "source": [
    "used"
   ]
  },
  {
   "cell_type": "code",
   "execution_count": 122,
   "id": "f50fa525",
   "metadata": {},
   "outputs": [
    {
     "data": {
      "text/plain": [
       "1"
      ]
     },
     "execution_count": 122,
     "metadata": {},
     "output_type": "execute_result"
    }
   ],
   "source": [
    "is_ok"
   ]
  },
  {
   "cell_type": "code",
   "execution_count": 125,
   "id": "a38c21f0",
   "metadata": {},
   "outputs": [
    {
     "name": "stdout",
     "output_type": "stream",
     "text": [
      "5 1\n",
      "0 1 0 0 1\n",
      "1 0 1 1 0\n",
      "0 1 0 1 0\n",
      "0 1 1 0 0\n",
      "1 0 0 0 0\n"
     ]
    }
   ],
   "source": [
    "n, s = map(int, input().split())\n",
    "matrix = []\n",
    "for i in range(n):\n",
    "    matrix.append(list(map(int, input().split())))"
   ]
  },
  {
   "cell_type": "code",
   "execution_count": 129,
   "id": "b5b52842",
   "metadata": {},
   "outputs": [
    {
     "name": "stdout",
     "output_type": "stream",
     "text": [
      "\n",
      "0 1 4 2 3 "
     ]
    }
   ],
   "source": [
    "# bfs\n",
    "used = [0] * n\n",
    "s = 0\n",
    "\n",
    "from collections import deque\n",
    "d = deque()\n",
    "d.append(s)\n",
    "used[s] = 1\n",
    "\n",
    "for j in range(n):\n",
    "    if (used[j] == 0):  \n",
    "        d.append(j)\n",
    "        used[j] = 1\n",
    "        print()\n",
    "        while (len(d) > 0):\n",
    "            v = d.popleft()\n",
    "            print(v, end = ' ')\n",
    "            for i in range(n):\n",
    "                if (matrix[v][i] == 1 and used[i] == 0):\n",
    "                    used[i] = 1\n",
    "                    d.append(i)"
   ]
  },
  {
   "cell_type": "code",
   "execution_count": 130,
   "id": "8cb1101d",
   "metadata": {},
   "outputs": [
    {
     "name": "stdout",
     "output_type": "stream",
     "text": [
      "\n",
      "0 4 1 3 2 "
     ]
    }
   ],
   "source": [
    "used = [0] * n\n",
    "s = 0\n",
    "\n",
    "from collections import deque\n",
    "d = deque()\n",
    "count = 0\n",
    "for j in range(n):\n",
    "    if (used[j] == 0):  \n",
    "        d.append(j)\n",
    "        used[j] = 1\n",
    "        count += 1\n",
    "        print()\n",
    "        while (len(d) > 0):\n",
    "            v = d.pop()\n",
    "            print(v, end = ' ')\n",
    "            for i in range(n):\n",
    "                if (matrix[v][i] == 1 and used[i] == 0):\n",
    "                    used[i] = 1\n",
    "                    d.append(i)"
   ]
  },
  {
   "cell_type": "code",
   "execution_count": 131,
   "id": "f2eed5c6",
   "metadata": {},
   "outputs": [
    {
     "name": "stdout",
     "output_type": "stream",
     "text": [
      "0 1 4 2 3 "
     ]
    }
   ],
   "source": [
    "used = [0] * n\n",
    "s = 0\n",
    "is_ok = 1\n",
    "\n",
    "from collections import deque\n",
    "d = deque()\n",
    "d.append(s)\n",
    "color = 1\n",
    "used[s] = color\n",
    "\n",
    "for j in range(n):\n",
    "    if (used[j] == 0):  \n",
    "        d.append(j)\n",
    "        used[j] = 1\n",
    "    while (len(d) > 0):\n",
    "        v = d.popleft()\n",
    "        print(v, end = ' ')\n",
    "        for i in range(n):\n",
    "            if (matrix[v][i] == 1 and used[i] == 0):\n",
    "                color = 3 - color\n",
    "                used[i] = color\n",
    "                d.append(i)\n",
    "            elif (matrix[v][i] == 1 and used[i] == color):\n",
    "                is_ok = 0\n",
    "                break"
   ]
  },
  {
   "cell_type": "code",
   "execution_count": 132,
   "id": "b01cf804",
   "metadata": {},
   "outputs": [
    {
     "data": {
      "text/plain": [
       "0"
      ]
     },
     "execution_count": 132,
     "metadata": {},
     "output_type": "execute_result"
    }
   ],
   "source": [
    "is_ok"
   ]
  },
  {
   "cell_type": "code",
   "execution_count": null,
   "id": "10b7c287",
   "metadata": {},
   "outputs": [],
   "source": []
  }
 ],
 "metadata": {
  "kernelspec": {
   "display_name": "Python 3 (ipykernel)",
   "language": "python",
   "name": "python3"
  },
  "language_info": {
   "codemirror_mode": {
    "name": "ipython",
    "version": 3
   },
   "file_extension": ".py",
   "mimetype": "text/x-python",
   "name": "python",
   "nbconvert_exporter": "python",
   "pygments_lexer": "ipython3",
   "version": "3.9.12"
  }
 },
 "nbformat": 4,
 "nbformat_minor": 5
}
