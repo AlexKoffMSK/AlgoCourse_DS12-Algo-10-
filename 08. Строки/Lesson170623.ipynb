{
 "cells": [
  {
   "cell_type": "code",
   "execution_count": 4,
   "id": "95066ba0",
   "metadata": {},
   "outputs": [
    {
     "name": "stdout",
     "output_type": "stream",
     "text": [
      "0 2\n",
      "7 9\n",
      "14 16\n"
     ]
    }
   ],
   "source": [
    "p = \"aab\"\n",
    "t = \"aabbadbaabababaab\"\n",
    "\n",
    "for i in range(len(t) - len(p) + 1): #по t\n",
    "    flag = True\n",
    "    for j in range(len(p)):\n",
    "        if (p[j] != t[i + j]):\n",
    "            flag = False\n",
    "            break\n",
    "    if (flag):\n",
    "        print(i, i + len(p) - 1)"
   ]
  },
  {
   "cell_type": "code",
   "execution_count": 6,
   "id": "bd76f315",
   "metadata": {},
   "outputs": [],
   "source": [
    "t = \"abaaaaba\"\n",
    "k = 0\n",
    "br = [0] * len(t)\n",
    "\n",
    "for i in range(1, len(t)):\n",
    "    while (k > 0 and t[k] != t[i]):\n",
    "        k = br[k]\n",
    "    if (t[k] == t[i]):\n",
    "        k = k + 1\n",
    "    br[i] = k"
   ]
  },
  {
   "cell_type": "code",
   "execution_count": 7,
   "id": "1c84b050",
   "metadata": {},
   "outputs": [
    {
     "data": {
      "text/plain": [
       "[0, 0, 1, 1, 1, 1, 2, 3]"
      ]
     },
     "execution_count": 7,
     "metadata": {},
     "output_type": "execute_result"
    }
   ],
   "source": [
    "br"
   ]
  },
  {
   "cell_type": "code",
   "execution_count": 16,
   "id": "240c0f41",
   "metadata": {},
   "outputs": [],
   "source": [
    "p = \"aba\"\n",
    "t = \"abaaba\"\n",
    "pt = p + \"$\" + t\n",
    "\n",
    "k = 0\n",
    "br = [0] * len(pt)\n",
    "\n",
    "for i in range(1, len(pt)):\n",
    "    while (k > 0 and pt[k] != pt[i]):\n",
    "        k = br[k]\n",
    "    if (pt[k] == pt[i]):\n",
    "        k = k + 1\n",
    "    br[i] = k"
   ]
  },
  {
   "cell_type": "code",
   "execution_count": 17,
   "id": "d96187cf",
   "metadata": {},
   "outputs": [
    {
     "data": {
      "text/plain": [
       "[0, 0, 1, 0, 1, 2, 3, 1, 2, 3]"
      ]
     },
     "execution_count": 17,
     "metadata": {},
     "output_type": "execute_result"
    }
   ],
   "source": [
    "br"
   ]
  },
  {
   "cell_type": "code",
   "execution_count": 18,
   "id": "e6634100",
   "metadata": {},
   "outputs": [],
   "source": [
    "# aba$abaaba"
   ]
  },
  {
   "cell_type": "code",
   "execution_count": 19,
   "id": "2544b921",
   "metadata": {},
   "outputs": [
    {
     "data": {
      "text/plain": [
       "'aba$abaaba'"
      ]
     },
     "execution_count": 19,
     "metadata": {},
     "output_type": "execute_result"
    }
   ],
   "source": [
    "pt"
   ]
  },
  {
   "cell_type": "code",
   "execution_count": 21,
   "id": "2fc1242f",
   "metadata": {},
   "outputs": [
    {
     "name": "stdout",
     "output_type": "stream",
     "text": [
      "0 2\n",
      "3 5\n"
     ]
    }
   ],
   "source": [
    "for i in range(len(p) + 1, len(br)):\n",
    "    if (br[i] == len(p)):\n",
    "        print(i - 2 * len(p), i - len(p) - 1)"
   ]
  },
  {
   "cell_type": "code",
   "execution_count": 22,
   "id": "b0a0d3b5",
   "metadata": {},
   "outputs": [],
   "source": [
    "p = \"aba\"\n",
    "t = \"abaaba\"\n",
    "\n",
    "def prefix_function(s):\n",
    "    n = len(s)\n",
    "    br = [0] * n\n",
    "    k = 0\n",
    "    for i in range(1, len(s)):\n",
    "        while (k > 0 and s[k] != s[i]):\n",
    "            k = br[k]\n",
    "        if (s[k] == s[i]):\n",
    "            k = k + 1\n",
    "        br[i] = k\n",
    "    return br"
   ]
  },
  {
   "cell_type": "code",
   "execution_count": 35,
   "id": "092a95f2",
   "metadata": {},
   "outputs": [],
   "source": [
    "def KMP(t, p):\n",
    "    n = len(t)\n",
    "    m = len(p)\n",
    "    result = []\n",
    "    pi = prefix_function(p)\n",
    "    count = 0\n",
    "    for i in range(n):\n",
    "        while (count > 0 and p[count] != t[i]):\n",
    "            count = pi[count - 1]\n",
    "        if (p[count] == t[i]):\n",
    "            count += 1\n",
    "        if (count == m):\n",
    "            result.append((i - m + 1, i))\n",
    "            count = pi[count - 1] # 0\n",
    "    return result"
   ]
  },
  {
   "cell_type": "code",
   "execution_count": 32,
   "id": "92245428",
   "metadata": {},
   "outputs": [
    {
     "name": "stdout",
     "output_type": "stream",
     "text": [
      "(0, 3) (3, 6) (13, 16) (17, 20) (31, 34) (35, 38) (47, 50)\n"
     ]
    }
   ],
   "source": [
    "p = \"abaa\"\n",
    "t = \"abaabaabafbababaaabaabafbababababaaabaabcaababbabaabab\"\n",
    "result = KMP(t, p)\n",
    "print(*result)"
   ]
  },
  {
   "cell_type": "code",
   "execution_count": 34,
   "id": "5ca1e597",
   "metadata": {},
   "outputs": [
    {
     "name": "stdout",
     "output_type": "stream",
     "text": [
      "(0, 3) (13, 16) (17, 20) (31, 34) (35, 38) (47, 50)\n"
     ]
    }
   ],
   "source": [
    "p = \"abaa\"\n",
    "t = \"abaabaabafbababaaabaabafbababababaaabaabcaababbabaabab\"\n",
    "result = KMP(t, p)\n",
    "print(*result)"
   ]
  },
  {
   "cell_type": "code",
   "execution_count": 40,
   "id": "6787f635",
   "metadata": {},
   "outputs": [],
   "source": [
    "def lev_dist(s, t):\n",
    "    m, n = len(s), len(t)\n",
    "    d = [[0] * (n + 1) for _ in range(m + 1)]\n",
    "    for i in range(1, m + 1):\n",
    "        d[i][0] = i\n",
    "    for j in range(1, n + 1):\n",
    "        d[0][j] = j\n",
    "    for i in range(1, m + 1):\n",
    "        for j in range(1, n + 1):\n",
    "            if s[i - 1] == t[j - 1]:\n",
    "                d[i][j] = d[i - 1][j - 1]\n",
    "            else:\n",
    "                d[i][j] = min(d[i - 1][j - 1] + 1,\n",
    "                             d[i][j - 1] + 1,\n",
    "                             d[i - 1][j] + 1)\n",
    "    return d[m][n]"
   ]
  },
  {
   "cell_type": "code",
   "execution_count": 41,
   "id": "6f2e8286",
   "metadata": {},
   "outputs": [
    {
     "data": {
      "text/plain": [
       "3"
      ]
     },
     "execution_count": 41,
     "metadata": {},
     "output_type": "execute_result"
    }
   ],
   "source": [
    "lev_dist(\"КОТИК\",\"КОТЕНОК\")"
   ]
  },
  {
   "cell_type": "code",
   "execution_count": 47,
   "id": "2aa941a8",
   "metadata": {},
   "outputs": [],
   "source": [
    "def dam_lev_dist(s, t):\n",
    "    m, n = len(s), len(t)\n",
    "    d = [[0] * (n + 1) for _ in range(m + 1)]\n",
    "    for i in range(1, m + 1):\n",
    "        d[i][0] = i\n",
    "    for j in range(1, n + 1):\n",
    "        d[0][j] = j\n",
    "    for i in range(1, m + 1):\n",
    "        for j in range(1, n + 1):\n",
    "            if s[i - 1] == t[j - 1]:\n",
    "                d[i][j] = d[i - 1][j - 1]\n",
    "            elif (i <= n and j <=m and s[i - 2] == t[j - 1] and s[i - 1] == t[j - 2]):\n",
    "                d[i][j] = min(d[i - 1][j - 1] + 1,\n",
    "                             d[i][j - 1] + 1,\n",
    "                             d[i - 1][j] + 1,\n",
    "                             d[i - 2][j - 2] + 1)\n",
    "            else:\n",
    "                d[i][j] = min(d[i - 1][j - 1] + 1,\n",
    "                             d[i][j - 1] + 1,\n",
    "                             d[i - 1][j] + 1)\n",
    "    return d[m][n]"
   ]
  },
  {
   "cell_type": "code",
   "execution_count": 48,
   "id": "f7b8e6de",
   "metadata": {},
   "outputs": [
    {
     "data": {
      "text/plain": [
       "3"
      ]
     },
     "execution_count": 48,
     "metadata": {},
     "output_type": "execute_result"
    }
   ],
   "source": [
    "dam_lev_dist(\"КОТИК\",\"КОТЕНОК\")"
   ]
  },
  {
   "cell_type": "code",
   "execution_count": 49,
   "id": "b75d7971",
   "metadata": {},
   "outputs": [
    {
     "data": {
      "text/plain": [
       "1"
      ]
     },
     "execution_count": 49,
     "metadata": {},
     "output_type": "execute_result"
    }
   ],
   "source": [
    "dam_lev_dist(\"ЯБЛОКО\",\"ЯБОЛКО\")"
   ]
  },
  {
   "cell_type": "code",
   "execution_count": 50,
   "id": "4d977b82",
   "metadata": {},
   "outputs": [
    {
     "data": {
      "text/plain": [
       "2"
      ]
     },
     "execution_count": 50,
     "metadata": {},
     "output_type": "execute_result"
    }
   ],
   "source": [
    "lev_dist(\"ЯБЛОКО\",\"ЯБОЛКО\")"
   ]
  },
  {
   "cell_type": "code",
   "execution_count": null,
   "id": "ffb8df39",
   "metadata": {},
   "outputs": [],
   "source": []
  }
 ],
 "metadata": {
  "kernelspec": {
   "display_name": "Python 3 (ipykernel)",
   "language": "python",
   "name": "python3"
  },
  "language_info": {
   "codemirror_mode": {
    "name": "ipython",
    "version": 3
   },
   "file_extension": ".py",
   "mimetype": "text/x-python",
   "name": "python",
   "nbconvert_exporter": "python",
   "pygments_lexer": "ipython3",
   "version": "3.9.12"
  }
 },
 "nbformat": 4,
 "nbformat_minor": 5
}
