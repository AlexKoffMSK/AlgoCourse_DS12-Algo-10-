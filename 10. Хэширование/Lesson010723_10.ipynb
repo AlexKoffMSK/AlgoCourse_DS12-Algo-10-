{
 "cells": [
  {
   "cell_type": "code",
   "execution_count": 2,
   "id": "b4d3fee0",
   "metadata": {},
   "outputs": [],
   "source": [
    "import zlib"
   ]
  },
  {
   "cell_type": "code",
   "execution_count": 3,
   "id": "fdf9800d",
   "metadata": {},
   "outputs": [],
   "source": [
    "#crc32"
   ]
  },
  {
   "cell_type": "code",
   "execution_count": 5,
   "id": "7a815d0c",
   "metadata": {},
   "outputs": [
    {
     "name": "stdout",
     "output_type": "stream",
     "text": [
      "907060870\n"
     ]
    }
   ],
   "source": [
    "data = b'hello'\n",
    "hash1 = zlib.crc32(data)\n",
    "print(hash1)"
   ]
  },
  {
   "cell_type": "code",
   "execution_count": 10,
   "id": "734385bd",
   "metadata": {},
   "outputs": [
    {
     "name": "stdout",
     "output_type": "stream",
     "text": [
      "907060870\n"
     ]
    }
   ],
   "source": [
    "data = b'hello'\n",
    "hash1 = zlib.crc32(data)\n",
    "print(hash1)"
   ]
  },
  {
   "cell_type": "code",
   "execution_count": 11,
   "id": "1d0d56be",
   "metadata": {},
   "outputs": [
    {
     "name": "stdout",
     "output_type": "stream",
     "text": [
      "2450238537\n"
     ]
    }
   ],
   "source": [
    "data = b'hat'\n",
    "hash1 = zlib.crc32(data)\n",
    "print(hash1)"
   ]
  },
  {
   "cell_type": "code",
   "execution_count": 12,
   "id": "753a16f4",
   "metadata": {},
   "outputs": [],
   "source": [
    "def ownHash1(str): # cap, hat -> 3\n",
    "    return len(str)"
   ]
  },
  {
   "cell_type": "code",
   "execution_count": 21,
   "id": "0789d73d",
   "metadata": {},
   "outputs": [],
   "source": [
    "def ownHash2(str): # O(len(str))\n",
    "    num = 0\n",
    "    for i in range(len(str)):\n",
    "        num += ord(str[i])\n",
    "    return num"
   ]
  },
  {
   "cell_type": "code",
   "execution_count": 33,
   "id": "b44a3783",
   "metadata": {},
   "outputs": [],
   "source": [
    "def ownHash3(str, n):\n",
    "    return zlib.crc32(str) % 10"
   ]
  },
  {
   "cell_type": "code",
   "execution_count": 20,
   "id": "324285cb",
   "metadata": {},
   "outputs": [
    {
     "name": "stdout",
     "output_type": "stream",
     "text": [
      "3\n",
      "317\n"
     ]
    }
   ],
   "source": [
    "data = 'hat'\n",
    "print(ownHash1(data))\n",
    "print(ownHash2(data))"
   ]
  },
  {
   "cell_type": "code",
   "execution_count": 26,
   "id": "d9bd60f5",
   "metadata": {},
   "outputs": [
    {
     "name": "stdout",
     "output_type": "stream",
     "text": [
      "10\n",
      "-1 -1 -1 -1 -1 -1 -1 -1 -1 -1\n"
     ]
    }
   ],
   "source": [
    "n = 10\n",
    "list = [-1] * n\n",
    "print(len(list))\n",
    "print(*list)"
   ]
  },
  {
   "cell_type": "code",
   "execution_count": 37,
   "id": "d5ff9a22",
   "metadata": {},
   "outputs": [
    {
     "name": "stdout",
     "output_type": "stream",
     "text": [
      "3\n",
      "-1 -1 -1 b'notebook' -1 -1 -1 -1 -1 -1\n"
     ]
    }
   ],
   "source": [
    "el = b'notebook'\n",
    "print(ownHash3(el, n))\n",
    "list[ownHash3(el, n)] = el\n",
    "print(*list)"
   ]
  },
  {
   "cell_type": "code",
   "execution_count": 38,
   "id": "fcbdfc97",
   "metadata": {},
   "outputs": [
    {
     "name": "stdout",
     "output_type": "stream",
     "text": [
      "0\n",
      "b'hello' -1 -1 b'notebook' -1 -1 -1 -1 -1 -1\n"
     ]
    }
   ],
   "source": [
    "el = b'hello'\n",
    "print(ownHash3(el, n))\n",
    "list[ownHash3(el, n)] = el\n",
    "print(*list)"
   ]
  },
  {
   "cell_type": "code",
   "execution_count": 39,
   "id": "d1c927f6",
   "metadata": {},
   "outputs": [
    {
     "name": "stdout",
     "output_type": "stream",
     "text": [
      "3\n",
      "b'hello' -1 -1 b'low' -1 -1 -1 -1 -1 -1\n"
     ]
    }
   ],
   "source": [
    "el = b'low'\n",
    "print(ownHash3(el, n))\n",
    "list[ownHash3(el, n)] = el\n",
    "print(*list)"
   ]
  },
  {
   "cell_type": "code",
   "execution_count": 40,
   "id": "b6ba8cfd",
   "metadata": {},
   "outputs": [
    {
     "name": "stdout",
     "output_type": "stream",
     "text": [
      "10\n",
      "[] [] [] [] [] [] [] [] [] []\n"
     ]
    }
   ],
   "source": [
    "n = 10\n",
    "list = []\n",
    "for i in range(n):\n",
    "    list.append([])\n",
    "print(len(list))\n",
    "print(*list)"
   ]
  },
  {
   "cell_type": "code",
   "execution_count": 42,
   "id": "68db6872",
   "metadata": {},
   "outputs": [
    {
     "name": "stdout",
     "output_type": "stream",
     "text": [
      "0\n",
      "[b'hello'] [] [] [] [] [] [] [] [] []\n"
     ]
    }
   ],
   "source": [
    "el = b'hello'\n",
    "print(ownHash3(el, n))\n",
    "list[ownHash3(el, n)].append(el)\n",
    "print(*list)"
   ]
  },
  {
   "cell_type": "code",
   "execution_count": 43,
   "id": "2f9e2ec4",
   "metadata": {},
   "outputs": [
    {
     "name": "stdout",
     "output_type": "stream",
     "text": [
      "3\n",
      "[b'hello'] [] [] [b'notebook'] [] [] [] [] [] []\n"
     ]
    }
   ],
   "source": [
    "el = b'notebook'\n",
    "print(ownHash3(el, n))\n",
    "list[ownHash3(el, n)].append(el)\n",
    "print(*list)"
   ]
  },
  {
   "cell_type": "code",
   "execution_count": 44,
   "id": "b6929f6f",
   "metadata": {},
   "outputs": [
    {
     "name": "stdout",
     "output_type": "stream",
     "text": [
      "3\n",
      "[b'hello'] [] [] [b'notebook', b'low'] [] [] [] [] [] []\n"
     ]
    }
   ],
   "source": [
    "el = b'low'\n",
    "print(ownHash3(el, n))\n",
    "list[ownHash3(el, n)].append(el)\n",
    "print(*list)"
   ]
  },
  {
   "cell_type": "code",
   "execution_count": 45,
   "id": "e7b4a42b",
   "metadata": {},
   "outputs": [
    {
     "name": "stdout",
     "output_type": "stream",
     "text": [
      "8\n",
      "[b'hello'] [] [] [b'notebook', b'low'] [] [] [] [] [b'pool'] []\n"
     ]
    }
   ],
   "source": [
    "el = b'pool'\n",
    "print(ownHash3(el, n))\n",
    "list[ownHash3(el, n)].append(el)\n",
    "print(*list)"
   ]
  },
  {
   "cell_type": "code",
   "execution_count": 46,
   "id": "2096492c",
   "metadata": {},
   "outputs": [
    {
     "name": "stdout",
     "output_type": "stream",
     "text": [
      "7\n",
      "[b'hello'] [] [] [b'notebook', b'low'] [] [] [] [b'hat'] [b'pool'] []\n"
     ]
    }
   ],
   "source": [
    "el = b'hat'\n",
    "print(ownHash3(el, n))\n",
    "list[ownHash3(el, n)].append(el)\n",
    "print(*list)"
   ]
  },
  {
   "cell_type": "code",
   "execution_count": 47,
   "id": "5303233d",
   "metadata": {},
   "outputs": [
    {
     "name": "stdout",
     "output_type": "stream",
     "text": [
      "5\n",
      "[b'hello'] [] [] [b'notebook', b'low'] [] [b'row'] [] [b'hat'] [b'pool'] []\n"
     ]
    }
   ],
   "source": [
    "el = b'row'\n",
    "print(ownHash3(el, n))\n",
    "list[ownHash3(el, n)].append(el)\n",
    "print(*list)"
   ]
  },
  {
   "cell_type": "code",
   "execution_count": 48,
   "id": "7b80e905",
   "metadata": {},
   "outputs": [
    {
     "name": "stdout",
     "output_type": "stream",
     "text": [
      "4\n",
      "[b'hello'] [] [] [b'notebook', b'low'] [b'column'] [b'row'] [] [b'hat'] [b'pool'] []\n"
     ]
    }
   ],
   "source": [
    "el = b'column'\n",
    "print(ownHash3(el, n))\n",
    "list[ownHash3(el, n)].append(el)\n",
    "print(*list)"
   ]
  },
  {
   "cell_type": "code",
   "execution_count": 49,
   "id": "0c9ee809",
   "metadata": {},
   "outputs": [
    {
     "name": "stdout",
     "output_type": "stream",
     "text": [
      "7\n",
      "[b'hello'] [] [] [b'notebook', b'low'] [b'column'] [b'row'] [] [b'hat', b'key'] [b'pool'] []\n"
     ]
    }
   ],
   "source": [
    "el = b'key'\n",
    "print(ownHash3(el, n))\n",
    "list[ownHash3(el, n)].append(el)\n",
    "print(*list)"
   ]
  },
  {
   "cell_type": "code",
   "execution_count": 51,
   "id": "1dd34bbf",
   "metadata": {},
   "outputs": [
    {
     "name": "stdout",
     "output_type": "stream",
     "text": [
      "b'key'\n"
     ]
    }
   ],
   "source": [
    "el = b'key'\n",
    "for i in list[ownHash3(el, n)]: #O(m)\n",
    "    if (i == el):\n",
    "        print(el)"
   ]
  },
  {
   "cell_type": "code",
   "execution_count": 57,
   "id": "f88920b0",
   "metadata": {},
   "outputs": [
    {
     "name": "stdout",
     "output_type": "stream",
     "text": [
      "10\n",
      "-1 -1 -1 -1 -1 -1 -1 -1 -1 -1\n"
     ]
    }
   ],
   "source": [
    "n = 10\n",
    "list = [-1] * n\n",
    "print(len(list))\n",
    "print(*list)"
   ]
  },
  {
   "cell_type": "code",
   "execution_count": 58,
   "id": "3109fb96",
   "metadata": {},
   "outputs": [
    {
     "name": "stdout",
     "output_type": "stream",
     "text": [
      "3\n",
      "-1 -1 -1 b'low' -1 -1 -1 -1 -1 -1\n"
     ]
    }
   ],
   "source": [
    "el = b'low'\n",
    "print(ownHash1(el))\n",
    "if (list[ownHash1(el)] == - 1):\n",
    "    list[ownHash1(el)] = el\n",
    "else:\n",
    "    for i in range(ownHash1(el), n):\n",
    "        if list[i] == -1:\n",
    "            list[i] = el\n",
    "            break\n",
    "print(*list)"
   ]
  },
  {
   "cell_type": "code",
   "execution_count": 59,
   "id": "d60acbb3",
   "metadata": {},
   "outputs": [
    {
     "name": "stdout",
     "output_type": "stream",
     "text": [
      "3\n",
      "-1 -1 -1 b'low' b'hat' -1 -1 -1 -1 -1\n"
     ]
    }
   ],
   "source": [
    "el = b'hat'\n",
    "print(ownHash1(el))\n",
    "if (list[ownHash1(el)] == - 1):\n",
    "    list[ownHash1(el)] = el\n",
    "else:\n",
    "    for i in range(ownHash1(el), n):\n",
    "        if list[i] == -1:\n",
    "            list[i] = el\n",
    "            break\n",
    "print(*list)"
   ]
  },
  {
   "cell_type": "code",
   "execution_count": 60,
   "id": "273fa58b",
   "metadata": {},
   "outputs": [
    {
     "name": "stdout",
     "output_type": "stream",
     "text": [
      "3\n",
      "-1 -1 -1 b'low' b'hat' b'cup' -1 -1 -1 -1\n"
     ]
    }
   ],
   "source": [
    "el = b'cup'\n",
    "print(ownHash1(el))\n",
    "if (list[ownHash1(el)] == - 1):\n",
    "    list[ownHash1(el)] = el\n",
    "else:\n",
    "    for i in range(ownHash1(el), n):\n",
    "        if list[i] == -1:\n",
    "            list[i] = el\n",
    "            break\n",
    "print(*list)"
   ]
  },
  {
   "cell_type": "code",
   "execution_count": 61,
   "id": "318e0336",
   "metadata": {},
   "outputs": [
    {
     "name": "stdout",
     "output_type": "stream",
     "text": [
      "3\n",
      "-1 -1 -1 b'low' b'hat' b'cup' b'the' -1 -1 -1\n"
     ]
    }
   ],
   "source": [
    "el = b'the'\n",
    "print(ownHash1(el))\n",
    "if (list[ownHash1(el)] == - 1):\n",
    "    list[ownHash1(el)] = el\n",
    "else:\n",
    "    for i in range(ownHash1(el), n):\n",
    "        if list[i] == -1:\n",
    "            list[i] = el\n",
    "            break\n",
    "print(*list)"
   ]
  },
  {
   "cell_type": "code",
   "execution_count": 64,
   "id": "5bf40831",
   "metadata": {},
   "outputs": [
    {
     "name": "stdout",
     "output_type": "stream",
     "text": [
      "3\n",
      "b'the'\n"
     ]
    }
   ],
   "source": [
    "el = b'the'\n",
    "print(ownHash1(el))\n",
    "if (list[ownHash1(el)] == el):\n",
    "    print(el)\n",
    "else:\n",
    "    for i in range(ownHash1(el), n):\n",
    "        if list[i] == el:\n",
    "            print(el)\n",
    "            break"
   ]
  },
  {
   "cell_type": "code",
   "execution_count": 66,
   "id": "5d00d48a",
   "metadata": {},
   "outputs": [
    {
     "data": {
      "text/plain": [
       "2"
      ]
     },
     "execution_count": 66,
     "metadata": {},
     "output_type": "execute_result"
    }
   ],
   "source": [
    "hash('hello') % 10"
   ]
  },
  {
   "cell_type": "code",
   "execution_count": 63,
   "id": "43cccb02",
   "metadata": {},
   "outputs": [],
   "source": [
    "class Node:\n",
    "    def __init__(self, key, value):\n",
    "        self.key = key\n",
    "        self.value = value\n",
    "        self.next = None"
   ]
  },
  {
   "cell_type": "code",
   "execution_count": 139,
   "id": "f956893f",
   "metadata": {},
   "outputs": [],
   "source": [
    "class HashTable:\n",
    "    def __init__(self, capacity):\n",
    "        self.capacity = capacity\n",
    "        self.size = 0\n",
    "        self.table = [None] * (capacity)\n",
    "        \n",
    "    def _hash(self, key): #O(1)\n",
    "        return ownHash1(key)\n",
    "    \n",
    "    def insert(self, value): #O(1), O(size)\n",
    "        index = self._hash(value)\n",
    "        if (self.table[index] is None):\n",
    "            self.table[index] = Node(index, value)\n",
    "            self.size += 1\n",
    "        else:\n",
    "            current = self.table[index]\n",
    "            while current.next: #None\n",
    "                current = current.next\n",
    "            current.next = Node(index, value)\n",
    "            self.size += 1\n",
    "    \n",
    "    def search(self, value): #O(1), O(size)\n",
    "        index = self._hash(value)\n",
    "        current = self.table[index]\n",
    "        while current:\n",
    "            if (current.value == value):\n",
    "                return current.value\n",
    "            current = current.next\n",
    "        raise KeyError(value)\n",
    "        \n",
    "    def remove(self, value): #O(1), O(size)\n",
    "        index = self._hash(value)\n",
    "        current = self.table[index]\n",
    "        prev = None\n",
    "        while current:\n",
    "            if current.value == value:\n",
    "                if prev:\n",
    "                    prev.next = current.next\n",
    "                else:\n",
    "                    self.table[index] = current.next\n",
    "                self.size -= 1\n",
    "                return\n",
    "            prev = current\n",
    "            current = current.next\n",
    "        raise KeyError(value)\n",
    "    \n",
    "    def __contains__(self, key):\n",
    "        try:\n",
    "            self.search(key)\n",
    "            return True\n",
    "        except KeyError:\n",
    "            return False\n",
    "    \n",
    "    def __len__(self):\n",
    "        return self.size\n",
    "    \n",
    "    def __str__(self):\n",
    "        str_p = ''\n",
    "        for i in range(self.capacity):\n",
    "            str_p += str(i) + ' '\n",
    "            current = self.table[i]\n",
    "            while current:\n",
    "                str_p += current.value + ' '\n",
    "                current = current.next\n",
    "            str_p += '\\n'\n",
    "        return str_p"
   ]
  },
  {
   "cell_type": "code",
   "execution_count": 140,
   "id": "aac2c8e5",
   "metadata": {},
   "outputs": [
    {
     "name": "stdout",
     "output_type": "stream",
     "text": [
      "apple\n",
      "notebook\n",
      "row\n"
     ]
    }
   ],
   "source": [
    "hashTable = HashTable(10)\n",
    "hashTable.insert(\"apple\")\n",
    "hashTable.insert(\"notebook\")\n",
    "hashTable.insert(\"row\")\n",
    "print(hashTable.search(\"apple\"))\n",
    "print(hashTable.search(\"notebook\"))\n",
    "print(hashTable.search(\"row\"))\n",
    "hashTable.insert(\"pow\")\n",
    "hashTable.insert(\"hat\")\n",
    "hashTable.insert(\"pool\")\n",
    "hashTable.insert(\"join\")\n",
    "hashTable.insert(\"len\")"
   ]
  },
  {
   "cell_type": "code",
   "execution_count": 141,
   "id": "bce4ca0c",
   "metadata": {},
   "outputs": [
    {
     "name": "stdout",
     "output_type": "stream",
     "text": [
      "0 \n",
      "1 \n",
      "2 \n",
      "3 row pow hat len \n",
      "4 pool join \n",
      "5 apple \n",
      "6 \n",
      "7 \n",
      "8 notebook \n",
      "9 \n",
      "\n"
     ]
    }
   ],
   "source": [
    "print(hashTable)"
   ]
  },
  {
   "cell_type": "code",
   "execution_count": 126,
   "id": "5209c63e",
   "metadata": {},
   "outputs": [],
   "source": [
    "hashTable.remove(\"pool\")"
   ]
  },
  {
   "cell_type": "code",
   "execution_count": 115,
   "id": "95353e9b",
   "metadata": {},
   "outputs": [
    {
     "name": "stdout",
     "output_type": "stream",
     "text": [
      "0 notebook row \n",
      "1 \n",
      "2 \n",
      "3 \n",
      "4 \n",
      "5 pow \n",
      "6 apple \n",
      "7 join \n",
      "8 \n",
      "9 hat len \n",
      "\n"
     ]
    }
   ],
   "source": [
    "print(hashTable)"
   ]
  },
  {
   "cell_type": "code",
   "execution_count": 127,
   "id": "f9f286ef",
   "metadata": {},
   "outputs": [],
   "source": [
    "hashTable.remove(\"hat\")"
   ]
  },
  {
   "cell_type": "code",
   "execution_count": 128,
   "id": "0b804593",
   "metadata": {},
   "outputs": [
    {
     "name": "stdout",
     "output_type": "stream",
     "text": [
      "0 notebook row \n",
      "1 \n",
      "2 \n",
      "3 \n",
      "4 \n",
      "5 pow \n",
      "6 apple \n",
      "7 join \n",
      "8 \n",
      "9 len \n",
      "\n"
     ]
    }
   ],
   "source": [
    "print(hashTable)"
   ]
  },
  {
   "cell_type": "code",
   "execution_count": 129,
   "id": "e180043e",
   "metadata": {},
   "outputs": [],
   "source": [
    "hashTable.remove(\"len\")"
   ]
  },
  {
   "cell_type": "code",
   "execution_count": 130,
   "id": "3111825b",
   "metadata": {},
   "outputs": [
    {
     "name": "stdout",
     "output_type": "stream",
     "text": [
      "0 notebook row \n",
      "1 \n",
      "2 \n",
      "3 \n",
      "4 \n",
      "5 pow \n",
      "6 apple \n",
      "7 join \n",
      "8 \n",
      "9 \n",
      "\n"
     ]
    }
   ],
   "source": [
    "print(hashTable)"
   ]
  },
  {
   "cell_type": "code",
   "execution_count": 131,
   "id": "76cfba89",
   "metadata": {},
   "outputs": [],
   "source": [
    "hashTable.remove(\"notebook\")"
   ]
  },
  {
   "cell_type": "code",
   "execution_count": 132,
   "id": "11195ce2",
   "metadata": {},
   "outputs": [
    {
     "name": "stdout",
     "output_type": "stream",
     "text": [
      "0 row \n",
      "1 \n",
      "2 \n",
      "3 \n",
      "4 \n",
      "5 pow \n",
      "6 apple \n",
      "7 join \n",
      "8 \n",
      "9 \n",
      "\n"
     ]
    }
   ],
   "source": [
    "print(hashTable)"
   ]
  },
  {
   "cell_type": "code",
   "execution_count": 133,
   "id": "554b63b6",
   "metadata": {},
   "outputs": [
    {
     "ename": "KeyError",
     "evalue": "'the'",
     "output_type": "error",
     "traceback": [
      "\u001b[0;31m---------------------------------------------------------------------------\u001b[0m",
      "\u001b[0;31mKeyError\u001b[0m                                  Traceback (most recent call last)",
      "Input \u001b[0;32mIn [133]\u001b[0m, in \u001b[0;36m<cell line: 1>\u001b[0;34m()\u001b[0m\n\u001b[0;32m----> 1\u001b[0m \u001b[43mhashTable\u001b[49m\u001b[38;5;241;43m.\u001b[39;49m\u001b[43mremove\u001b[49m\u001b[43m(\u001b[49m\u001b[38;5;124;43m\"\u001b[39;49m\u001b[38;5;124;43mthe\u001b[39;49m\u001b[38;5;124;43m\"\u001b[39;49m\u001b[43m)\u001b[49m\n",
      "Input \u001b[0;32mIn [123]\u001b[0m, in \u001b[0;36mHashTable.remove\u001b[0;34m(self, value)\u001b[0m\n\u001b[1;32m     43\u001b[0m     prev \u001b[38;5;241m=\u001b[39m current\n\u001b[1;32m     44\u001b[0m     current \u001b[38;5;241m=\u001b[39m current\u001b[38;5;241m.\u001b[39mnext\n\u001b[0;32m---> 45\u001b[0m \u001b[38;5;28;01mraise\u001b[39;00m \u001b[38;5;167;01mKeyError\u001b[39;00m(value)\n",
      "\u001b[0;31mKeyError\u001b[0m: 'the'"
     ]
    }
   ],
   "source": [
    "hashTable.remove(\"the\")"
   ]
  },
  {
   "cell_type": "code",
   "execution_count": 134,
   "id": "1076f0a3",
   "metadata": {},
   "outputs": [
    {
     "data": {
      "text/plain": [
       "4"
      ]
     },
     "execution_count": 134,
     "metadata": {},
     "output_type": "execute_result"
    }
   ],
   "source": [
    "len(hashTable)"
   ]
  },
  {
   "cell_type": "code",
   "execution_count": 136,
   "id": "9eaef906",
   "metadata": {},
   "outputs": [
    {
     "data": {
      "text/plain": [
       "False"
      ]
     },
     "execution_count": 136,
     "metadata": {},
     "output_type": "execute_result"
    }
   ],
   "source": [
    "\"the\" in hashTable"
   ]
  },
  {
   "cell_type": "code",
   "execution_count": 137,
   "id": "28a0218f",
   "metadata": {},
   "outputs": [
    {
     "data": {
      "text/plain": [
       "True"
      ]
     },
     "execution_count": 137,
     "metadata": {},
     "output_type": "execute_result"
    }
   ],
   "source": [
    "\"pow\" in hashTable"
   ]
  },
  {
   "cell_type": "code",
   "execution_count": 138,
   "id": "fc53a4dc",
   "metadata": {},
   "outputs": [],
   "source": [
    "if \"111\" in hashTable:\n",
    "    hashTable.remove(\"111\")"
   ]
  },
  {
   "cell_type": "code",
   "execution_count": 142,
   "id": "e335da11",
   "metadata": {},
   "outputs": [],
   "source": [
    "class Node:\n",
    "    def __init__(self, data):\n",
    "        self.data = data\n",
    "        self.next = None"
   ]
  },
  {
   "cell_type": "code",
   "execution_count": 214,
   "id": "9e1b5f10",
   "metadata": {},
   "outputs": [],
   "source": [
    "class LinkedList:\n",
    "    def __init__(self):\n",
    "        self.head = None\n",
    "        \n",
    "    def pushBegin(self, value):\n",
    "        new_node = Node(value)\n",
    "        new_node.next = self.head\n",
    "        self.head = new_node\n",
    "        \n",
    "    def pushAfter(self, prev, value):\n",
    "        new_node = Node(value)\n",
    "        new_node.next = prev.next\n",
    "        prev.next = new_node\n",
    "        \n",
    "    def delete(self, value):\n",
    "        if (self.head.data == value):\n",
    "            self.head = self.head.next\n",
    "            return\n",
    "        \n",
    "        curr = self.head\n",
    "        prev = None\n",
    "        while (curr and curr.data != value):\n",
    "            prev = curr\n",
    "            curr = curr.next\n",
    "        \n",
    "        if (curr is None):\n",
    "            return\n",
    "        prev.next = curr.next\n",
    "        \n",
    "    def search(self, value):\n",
    "        curr = self.head\n",
    "        while (curr and curr.data != value):\n",
    "            prev = curr\n",
    "            curr = curr.next\n",
    "        \n",
    "        if (curr is None):\n",
    "            return None\n",
    "        return curr.data\n",
    "        \n",
    "    def pushEnd(self, value):\n",
    "        curr = self.head\n",
    "        \n",
    "        while (curr.next):\n",
    "            curr = curr.next\n",
    "        \n",
    "        curr.next = Node(value)\n",
    "        \n",
    "    def reverse(self):\n",
    "        prev = None\n",
    "        curr = self.head\n",
    "        \n",
    "        while(curr):\n",
    "            next = curr.next\n",
    "            curr.next = prev\n",
    "            prev = curr\n",
    "            curr = next\n",
    "        self.head = prev\n",
    "    \n",
    "    def __str__(self):\n",
    "        s = ''\n",
    "        curr = self.head\n",
    "        while (curr):\n",
    "            s += str(curr.data) + ' '\n",
    "            curr = curr.next\n",
    "        return s"
   ]
  },
  {
   "cell_type": "code",
   "execution_count": 215,
   "id": "cfa553b4",
   "metadata": {},
   "outputs": [
    {
     "name": "stdout",
     "output_type": "stream",
     "text": [
      "2 6 7 1 3 4 5 \n"
     ]
    }
   ],
   "source": [
    "ll = LinkedList()\n",
    "# 2 1 3\n",
    "ll.pushBegin(1)\n",
    "ll.pushBegin(2)\n",
    "ll.pushEnd(3)\n",
    "ll.pushEnd(4)\n",
    "ll.pushEnd(5)\n",
    "ll.pushAfter(ll.head, 6)\n",
    "ll.pushAfter(ll.head.next, 7)\n",
    "print(ll)"
   ]
  },
  {
   "cell_type": "code",
   "execution_count": 216,
   "id": "37593fa8",
   "metadata": {},
   "outputs": [
    {
     "name": "stdout",
     "output_type": "stream",
     "text": [
      "5 4 3 1 7 6 2 \n"
     ]
    }
   ],
   "source": [
    "ll.reverse()\n",
    "print(ll)"
   ]
  },
  {
   "cell_type": "code",
   "execution_count": 200,
   "id": "876ad23a",
   "metadata": {},
   "outputs": [],
   "source": [
    "ll.delete(1)"
   ]
  },
  {
   "cell_type": "code",
   "execution_count": 201,
   "id": "72169483",
   "metadata": {},
   "outputs": [
    {
     "name": "stdout",
     "output_type": "stream",
     "text": [
      "2 6 7 3 4 5 \n"
     ]
    }
   ],
   "source": [
    "print(ll)"
   ]
  },
  {
   "cell_type": "code",
   "execution_count": 202,
   "id": "3f199dd2",
   "metadata": {},
   "outputs": [
    {
     "name": "stdout",
     "output_type": "stream",
     "text": [
      "6 7 3 4 5 \n"
     ]
    }
   ],
   "source": [
    "ll.delete(2)\n",
    "print(ll)"
   ]
  },
  {
   "cell_type": "code",
   "execution_count": 203,
   "id": "65581595",
   "metadata": {},
   "outputs": [
    {
     "name": "stdout",
     "output_type": "stream",
     "text": [
      "6 7 3 4 \n"
     ]
    }
   ],
   "source": [
    "ll.delete(5)\n",
    "print(ll)"
   ]
  },
  {
   "cell_type": "code",
   "execution_count": 204,
   "id": "6916f3f8",
   "metadata": {},
   "outputs": [
    {
     "name": "stdout",
     "output_type": "stream",
     "text": [
      "6 7 3 \n"
     ]
    }
   ],
   "source": [
    "ll.delete(4)\n",
    "print(ll)"
   ]
  },
  {
   "cell_type": "code",
   "execution_count": 205,
   "id": "80019a79",
   "metadata": {},
   "outputs": [
    {
     "name": "stdout",
     "output_type": "stream",
     "text": [
      "6 7 3 \n"
     ]
    }
   ],
   "source": [
    "ll.delete(90)\n",
    "print(ll)"
   ]
  },
  {
   "cell_type": "code",
   "execution_count": 206,
   "id": "77311c32",
   "metadata": {},
   "outputs": [
    {
     "name": "stdout",
     "output_type": "stream",
     "text": [
      "7\n"
     ]
    }
   ],
   "source": [
    "print(ll.search(7))"
   ]
  },
  {
   "cell_type": "code",
   "execution_count": 207,
   "id": "68534f23",
   "metadata": {},
   "outputs": [],
   "source": [
    "ll.reverse()"
   ]
  },
  {
   "cell_type": "code",
   "execution_count": 208,
   "id": "a4c89520",
   "metadata": {},
   "outputs": [
    {
     "name": "stdout",
     "output_type": "stream",
     "text": [
      "3 7 6 \n"
     ]
    }
   ],
   "source": [
    "print(ll)"
   ]
  },
  {
   "cell_type": "code",
   "execution_count": null,
   "id": "175462b5",
   "metadata": {},
   "outputs": [],
   "source": []
  }
 ],
 "metadata": {
  "kernelspec": {
   "display_name": "Python 3 (ipykernel)",
   "language": "python",
   "name": "python3"
  },
  "language_info": {
   "codemirror_mode": {
    "name": "ipython",
    "version": 3
   },
   "file_extension": ".py",
   "mimetype": "text/x-python",
   "name": "python",
   "nbconvert_exporter": "python",
   "pygments_lexer": "ipython3",
   "version": "3.9.12"
  }
 },
 "nbformat": 4,
 "nbformat_minor": 5
}
